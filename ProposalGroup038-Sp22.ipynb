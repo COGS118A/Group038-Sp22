{
 "cells": [
  {
   "cell_type": "markdown",
   "metadata": {},
   "source": [
    "# COGS 118A- Project Proposal"
   ]
  },
  {
   "cell_type": "markdown",
   "metadata": {},
   "source": [
    "### Peer Review\n",
    "\n",
    "You will all have an opportunity to look at the Project Proposals of other groups to fuel your creativity and get more ideas for how you can improve your own projects. \n",
    "\n",
    "Both the project proposal and project checkpoint will have peer review."
   ]
  },
  {
   "cell_type": "markdown",
   "metadata": {},
   "source": [
    "# Names\n",
    "\n",
    "Hopefully your team is at least this good. Obviously you should replace these with your names.\n",
    "\n",
    "- Thanh Bui\n",
    "- Zura Nebieridze\n",
    "- Janty Sphabmixay\n",
    "- Ingrid Altamirano\n",
    "- Tristan Romanov"
   ]
  },
  {
   "cell_type": "markdown",
   "metadata": {},
   "source": [
    "# Abstract \n",
    "In this project, we are planning to predict the stock market using Numer.ai data. We will get datasets from Numer.ai and apply our Machine Learning algorithm to predict the outcome of the given stocks. We will be provided with the stock data from the past with hidden companies as the data points and and our Machine Learning model then will be tested with the stock market following the time period that was provided to us to do the training. The success of our model will be measured based on how well the model was able to predict the stock price of a given company."
   ]
  },
  {
   "cell_type": "markdown",
   "metadata": {},
   "source": [
    "# Background\n",
    "### What is Stock Market? \n",
    "As more and more people are looking for a way to invest, stock market is one of the option people look at. <br>\n",
    "Stock market is where investors connect to buy and sell investments -- most commonly, stocks, which are shares of ownership in a public company[<sup>[1]</sup>](#stockinfo_link). Though, you do not need to be an \"investor\" to buy stock since it is open to everyone. <br>\n",
    "Stocks are usually purchased online through the stock market using a brokage account. Brokage account is an investmemt account that investors used to securely buy stocks. <br>\n",
    "### How does it work?\n",
    "- Companies list shares of their stock on an exchange through a process called Initial Public Offering (IPO)[<sup>[1]</sup>](#stockinfo_link). \n",
    "- The companies able to raise their money to grow their business by having more investors buy into their shares. \n",
    "- Investors can later buy and sell those stocks among themselves and the exchange tracks the supply and demand of each listed stock which helps determine the price for each security[<sup>[1]</sup>](#stockinfo_link). <br> \n",
    "\n",
    "### Why predict stock market?\n",
    "We are here to **help** people! <br>\n",
    "Stock prices are uncertain. Predicting stock prices is very important in business and finance. We can use Data Science to come up with many different algorithms to help predict future values. The main reason to forcast stock prices is to help people who invest in stocks make better buying decision and companies to get a better view of how their businesses are going. <br>\n",
    "Of course for people, looking at numbers and algorithm might be overwhelming sometimes, hence to make it easier for the eye, we use Data Visual to show our results/predictions. The visual, usually line graphs, shows how well the companies are doing which helps buyers decide whether or not they should buy those shares. \n",
    "\n",
    "### Prior Work 1 (Research)\n",
    "1. A study forcasting stock market during COVID-19 used Long Short-Term Memory (LSTM) to predict future values and Recurrence Neural Network (RNN) model. They splitted their data into 80% training and 20% testing. For their historical data, they compared their date with 3-5 years data. Using their model, the stock price plunged 28% as more Covid-19 cases confirmed in Indenesia in March 2020.[<sup>[3]</sup>](#priorwork_2) \n",
    "2. A study used Machine Learning approach to predict Stock Market. They used Regression, includes Linear Regression, Polynomial Regression, Radial Basis Function (RBF) Regression, and Sigmoid Regression, to predict their model. Their goal is to help the \"stock brokers and investors for investing money in the stock market\" (Sharma, Bhuriya, Singh, 2017)[<sup>[4]</sup>](#priorwork_3)\n",
    "3. A paper was published talking about using ML to predict the stock market. Here they used Regression and LSTM models to make prediction. They found hte LSTM model is more accurate compared to Regression based model[<sup>[5]</sup>](#priorwork_4).\n",
    "4. Another study used the method called K-Nearest Neighbor to predict stock trend. They collected data over the duration of 8 years. They have multiple columns of open (starting value), high (peak value), low (lowest value), close (final worth), and volume (number of stock traded on a specific day) [<sup>[6]</sup>](#priorwork_5). <br>\n",
    "    * Compute the Stock Return *(This is essential to compare the present stock price and prior stock price) \n",
    "        * stock_return = (current_day_closing_price - closing_price_of_previous_day) / (previous_day_closing_proce_of_the_stock) \n",
    "    * Compute Z-Score\n",
    "        * z_score = open - (mean_of_open/stdv_of_open)\n",
    "    * Apply Z-Score for outlier detection \n",
    "    * Implementation of outlier removal using pandas code \n",
    "    * Apply K-Nearest Neighbours Classifiers \n",
    "\n",
    "### Prior Work (Regarding ML Algorithms for Stock Prediction)\n",
    "#### Long Short-Term Memory (LSTM): \n",
    "- This is a deep learning artificial recurrent neural network architecture [<sup>[2]</sup>](#priorwork_1)\n",
    "- This method was created to predict Microsoft Corporation stock values <br>\n",
    "- This is used to make minor changes to the information by multiplying and adding[<sup>[2]</sup>](#priorwork_1)\n",
    "\n",
    "#### Time Series Analysis\n",
    "- Analyzes past data and find an estimate value for furure data\n",
    "- Non-linear function by recurrence relation derived from past values[<sup>[3]</sup>](#priorwork_2)\n",
    "\n",
    "#### Regression\n",
    "- Estimate relationships among variables (one dependent variable with multiple independent variables)\n",
    "\n",
    "#### K-Nearest Neighbors\n",
    "- Determine class of data point by majority votes\n",
    "\n",
    "### Numerai Information\n",
    "Numerai is a global AI tournament, where participants compete against each other to build the best model that predicts the stock market using Machine Learning methods. Numerai provides the competitors with an encrypted dataset, and a built environment making it easier for users to submit and work on their model. \n",
    "\n"
   ]
  },
  {
   "cell_type": "markdown",
   "metadata": {},
   "source": [
    "# Problem Statement\n",
    "\n",
    "Given numer.ai’s dataset of individual stocks characterized by numerical features, we want to predict a target feature measuring performance. Our problem is using current data to find the best model (within our abilities) to use for such a goal. “Best” will be operationalized by performance and generalizability, both of which can be evaluated numerically. Performance will be computed by a metric of prediction power: if we train our model on previously unseen stocks, how well will the targets be predicted? Such a metric will be defined as we explore the data. Since we are working with targets that represent performance, we will perhaps use a loss/reward function that does not penalize cases where the model predicts a high value for the target but the actual value is even higher. Or, we will not penalize these cases as much as those where the model predicts a high target value but the actual target value was low (or vice versa). That is, we will build a loss/reward function that cares more about predicting the direction of the target (positive or negative, high or low, above average or below average, etc.) than it cares about predicting the magnitude (very above average vs. extremely above average, etc.) of the target. Generalizability will be evaluated by “variance”: that means, the variance of the expected value of the generalization error. This is a metric commonly used to estimate generalizability, and is often the “variance” referred to in the “bias/variance tradeoff”. From this numerical measure we can make qualitative conclusions about our model’s propensity to overfit in the context of generalizability. These metrics will be computed by following scientific guidelines like randomization and partitioning (into train-validation-test). We will compute these metrics in a notebook that is runnable by graders."
   ]
  },
  {
   "cell_type": "markdown",
   "metadata": {},
   "source": [
    "# Data\n",
    "\n",
    "- https://numer.ai/data/v4\n",
    "- We are using the “VALIDATION_PARQUET” dataset in the above link. It is a historical record of the prices of many stocks in 1191 features in 1006 eras, with 21 target features. 10 of the target features are measures of performance 20 days after the given era, 10 others are the same measures but 60 days after the given era, and one target feature is a duplicate of one of the twenty. They provide the 20 others to help with training.\n",
    "- Observations are indexed by the stock. Each contains the era of recording, the 1991 features about that stock, and the 21 target features. We will be unable to track this particular stock over time: each observation has a unique ID.\n",
    "- All data are obfuscated. That means the company makes sure we do not know what stocks we are working with, or what the variables correspond to. All features are either float64 or int8. The era variable is somewhat interpretable. The company was first hesitant to admit the resolution or sequential details of the variable, but they are now saying that each era is a week, and the eras are sequential (era 2 starts after era 1, but they share 60% overlap). Otherwise, the features are regularized and their names are meaningless (they are named “feature_untidy_withdrawn_bargeman” or something similarly uninterpretable). There are no NAN’s in the features, but there are NANs in the targets corresponding to values that the current competitors are trying to predict.\n",
    "- Since the dataset is large, we will work with modeling one era at a time. This is not destructive to the final composite model (if we were to make one) because you cannot track a single stock’s performance across eras. This makes the data only about 5000 rows by 1214 columns. If the teaching staff/cogsci department/HDSI allow us more resources, we would be happy to build an ensemble connecting individual era models. Inquiries will be made after approval.\n",
    "\n",
    "![Dataset Photo](photo/dataset_photo.PNG)"
   ]
  },
  {
   "cell_type": "markdown",
   "metadata": {},
   "source": [
    "# Proposed Solution\n",
    "\n",
    "- The data sets are already clean. We will first explore the data to make note of which models we learned in class are usable. Then we will use every model we have thus far learned in class to predict the target. As we described above in the Data section, we will be building models on only single eras (~5000 rows) at a time.\n",
    "- We propose the following as a solution. We will seek to build a model that takes any stock (in a single era) and predict its target. Since we will be predicting 1 target with 1191 predictors, we have extraordinary flexibility. We can assume that the target is a linear function of its predictors, and thus model the relationship by a high-dimensional line with linear regression. We will also use regularization techniques like ridge and lasso to perform feature selection: it would be nice to find a few features that are very predictive of the target. We will also perform principal component analysis, which is likely to work because the data are very high-dimensional. We will also perform a regression by decision tree, which we have learned in class. We learned in class that decision trees always work, so this will be our baseline. We will use tree pruning methods, which we were introduced to in class, and we will compare this to our lasso/PCA/ridge regularized linear regression.\n",
    "- Our methods will be tested by splitting our dataset into train-validation-test partitions. The test partition will not be used to train our models or to tune hyperparameters: it will only be used to evaluate final models. We will do this all in a notebook that is runnable by graders.\n",
    "In summary, we will use this dataset as a way to explore methodology and to make meaningful comparisons between our models. As the quarter progresses, we will continue to model our data in new ways, as we learn new techniques.\n"
   ]
  },
  {
   "cell_type": "markdown",
   "metadata": {},
   "source": [
    "# Evaluation Metrics\n",
    "\n",
    "To evaluate the success of our prediction model we will be comparing the predictions to the actual stock price of given companies. The goal is to predict whether or not the stock will go up, as well as by what percent."
   ]
  },
  {
   "cell_type": "markdown",
   "metadata": {},
   "source": [
    "# Ethics & Privacy"
   ]
  },
  {
   "cell_type": "markdown",
   "metadata": {},
   "source": [
    "### Privacy \n",
    "\n",
    "This dataset comes from the Numeri tournament who obfuscates their dataset, to maintain stock company names private. These will be our data points where each datapoint is represented by a unique 16-digit identifier. The features that measure the stock predictions, which we will be using as the variables, are also private where they are labeled as “feature1, feature2, feature 3” etc. This allows us to create an unbiased model, meanwhile protecting private stock and company information. \n",
    "\n",
    "\n",
    "### Ethics - research\n",
    "\n",
    "By using obfuscated data, and a model that predicts a single target, some possible ethical concerns can revolve around the hidden data. As these data points are hidden values, we as a team may not truly know what kind of stock information we are predicting and what feature values these may represent. This can be unethical as we may be predicting things that can lead to bias or unfair predictions.\n"
   ]
  },
  {
   "cell_type": "markdown",
   "metadata": {},
   "source": [
    "# Team Expectations "
   ]
  },
  {
   "cell_type": "markdown",
   "metadata": {},
   "source": [
    "- Answer questions on either Discord/Phone Group chat ASAP\n",
    "- Come to the meetings on time\n",
    "- Finish the work you were assigned to/agreed to\n",
    "- Don’t be rude and don’t be a dick\n",
    "- The meeting times should be set by the majority, but the attempt should be made to have a meeting where everyone is available\n",
    "- Meet once a week to check on progress, anything we need help with, and to see what needs to be done \n"
   ]
  },
  {
   "cell_type": "markdown",
   "metadata": {},
   "source": [
    "# Project Timeline Proposal"
   ]
  },
  {
   "cell_type": "markdown",
   "metadata": {},
   "source": [
    "| Meeting Date  | Meeting Time| Completed Before Meeting  | Discuss at Meeting |\n",
    "|---|---|---|---|\n",
    "| 4/23  |  3 PM |  Brainstorm Project Ideas/Topics/Questions  | Project Topics, Team Expectations, Objectives for Final Project | \n",
    "| 4/25  |  3 PM |  Download and clean datasets | What models and tests we’re going to use for specific attributes | \n",
    "| 5/2  | 3 PM  | Setup multiple test datasets  | Models, Test Progress, and Writeup   |\n",
    "| 5/9  | 3 PM  | Start writeup, apply models | Checkpoint #1: Completed Models, Test Progress   |\n",
    "| 5/16  | 3 PM  | Finish models, run tests on completed models | Checkpoint #2: Writeup, Completed Tests |\n",
    "| 5/23  | 3 PM  | Finish discussion writeup section | Models and Tests Results |\n",
    "| 5/30  | 3 PM  | Finish running tests, finish writeup | Writeup |\n",
    "| 6/8  | Before 11:59 PM  | Double check everything before turn-in Final Project  | Turn in Final Project  |"
   ]
  },
  {
   "cell_type": "markdown",
   "metadata": {},
   "source": [
    "# Footnotes\n",
    "\n",
    "1. [^](#stockinfo_link): O'shea, A. & Davis, C. (3 Mar 2022) What Is the Stock Market and How Does It Work? *nerdwallet*. https://www.nerdwallet.com/article/investing/what-is-the-stock-market <br>\n",
    "2. [^](#priorwork_1): Sharma P. (13 Oct 2021) Machine Learning for Stock Market Prediction with Step-by-Step Implementation. *Analytics Vidhya*. https://www.analyticsvidhya.com/blog/2021/10/machine-learning-for-stock-market-prediction-with-step-by-step-implementation/\n",
    "3. [^](#priorwork_2):  Budiharto W. (11 Mar 2021) Data science approach to stock prices forecasting in Indonesia during Covid-19 using Long Short-Term Memory (LSTM). *SpringerOpen*. https://journalofbigdata.springeropen.com/articles/10.1186/s40537-021-00430-0\n",
    "4. [^](#priorwork_3): Sharma A., Bhuriya D., Singh U. (20-22 April 2017) Survey of stock market prediction using mahcine learning approach. *IEEE Xplore*. https://ieeexplore.ieee.org/abstract/document/8212715?casa_token=b3ZFWmFhw5MAAAAA:iy94X3E3wlSJIGcejGgc2XqA_ybH8UvzbdtEpbHY1qIb_d0hFJLQEllB-7LheR5T_73V7mckIw\n",
    "5. [^](#priorwork_4): Parmar I., Agarwal N., Saxena S., Arora R., Gupta S., Dhiman H., Chouhan L. (15-17 Dec 2018) Stock Market Prediction Using Machine Leanring. *IEEE*. https://ieeexplore.ieee.org/abstract/document/8703332?casa_token=v5atTBZIRIkAAAAA:t1j5GRm9PFXT-ihgeClRFMb_c7rcQrAHgzkiklBsmIBQeTblFuGPqJP90MQNbJz8zSeUV5x5Yw\n",
    "6. [^](#priorwork_5): Khattak A., Ullah H., Khald H., Habib A., Asghar M., Kundi F. (04 Dec 2019) Stock Market Trend Prediction using Supervised Learning. *Association for Computing Machinary*. https://dl.acm.org/doi/abs/10.1145/3368926.3369680?casa_token=d2V4AVyFf5wAAAAA:R2myhseJNw6CBOTtrqsEzKvXlhw9hcul0RCdlUX8uCCMEHr7zMq2mVr2V9BKJ08W1Z-izV6h9NYo\n"
   ]
  }
 ],
 "metadata": {
  "kernelspec": {
   "display_name": "Python 3",
   "language": "python",
   "name": "python3"
  },
  "language_info": {
   "codemirror_mode": {
    "name": "ipython",
    "version": 3
   },
   "file_extension": ".py",
   "mimetype": "text/x-python",
   "name": "python",
   "nbconvert_exporter": "python",
   "pygments_lexer": "ipython3",
   "version": "3.8.8"
  }
 },
 "nbformat": 4,
 "nbformat_minor": 2
}
